{
 "nbformat": 4,
 "nbformat_minor": 0,
 "metadata": {
  "colab": {
   "provenance": []
  },
  "kernelspec": {
   "name": "python3",
   "language": "python",
   "display_name": "Python 3 (ipykernel)"
  },
  "language_info": {
   "name": "python"
  }
 },
 "cells": [
  {
   "cell_type": "markdown",
   "source": [
    "## Download PDFs to a folder"
   ],
   "metadata": {
    "collapsed": false
   }
  },
  {
   "cell_type": "code",
   "execution_count": 1,
   "outputs": [
    {
     "name": "stdout",
     "output_type": "stream",
     "text": [
      "Requirement already satisfied: pandas in /opt/homebrew/Caskroom/miniforge/base/envs/agents/lib/python3.9/site-packages (2.0.3)\r\n",
      "Requirement already satisfied: requests in /opt/homebrew/Caskroom/miniforge/base/envs/agents/lib/python3.9/site-packages (2.31.0)\r\n",
      "Requirement already satisfied: python-dateutil>=2.8.2 in /opt/homebrew/Caskroom/miniforge/base/envs/agents/lib/python3.9/site-packages (from pandas) (2.8.2)\r\n",
      "Requirement already satisfied: pytz>=2020.1 in /opt/homebrew/Caskroom/miniforge/base/envs/agents/lib/python3.9/site-packages (from pandas) (2021.3)\r\n",
      "Requirement already satisfied: tzdata>=2022.1 in /opt/homebrew/Caskroom/miniforge/base/envs/agents/lib/python3.9/site-packages (from pandas) (2023.3)\r\n",
      "Requirement already satisfied: numpy>=1.20.3 in /opt/homebrew/Caskroom/miniforge/base/envs/agents/lib/python3.9/site-packages (from pandas) (1.24.4)\r\n",
      "Requirement already satisfied: charset-normalizer<4,>=2 in /opt/homebrew/Caskroom/miniforge/base/envs/agents/lib/python3.9/site-packages (from requests) (2.0.12)\r\n",
      "Requirement already satisfied: idna<4,>=2.5 in /opt/homebrew/Caskroom/miniforge/base/envs/agents/lib/python3.9/site-packages (from requests) (3.3)\r\n",
      "Requirement already satisfied: urllib3<3,>=1.21.1 in /opt/homebrew/Caskroom/miniforge/base/envs/agents/lib/python3.9/site-packages (from requests) (1.26.7)\r\n",
      "Requirement already satisfied: certifi>=2017.4.17 in /opt/homebrew/Caskroom/miniforge/base/envs/agents/lib/python3.9/site-packages (from requests) (2023.7.22)\r\n",
      "Requirement already satisfied: six>=1.5 in /opt/homebrew/Caskroom/miniforge/base/envs/agents/lib/python3.9/site-packages (from python-dateutil>=2.8.2->pandas) (1.16.0)\r\n",
      "Note: you may need to restart the kernel to use updated packages.\n"
     ]
    }
   ],
   "source": [
    "!pip install pandas requests"
   ],
   "metadata": {
    "collapsed": false,
    "ExecuteTime": {
     "end_time": "2023-11-20T10:58:33.310286Z",
     "start_time": "2023-11-20T10:58:31.692791Z"
    }
   }
  },
  {
   "cell_type": "code",
   "execution_count": 23,
   "outputs": [
    {
     "name": "stdout",
     "output_type": "stream",
     "text": [
      "Downloaded and saved: /Users/aidakostikova/Desktop/arxiv/grobid_client_python/resources/test_pdf/paper_1.pdf\n",
      "Downloaded and saved: /Users/aidakostikova/Desktop/arxiv/grobid_client_python/resources/test_pdf/paper_2.pdf\n",
      "Downloaded and saved: /Users/aidakostikova/Desktop/arxiv/grobid_client_python/resources/test_pdf/paper_3.pdf\n",
      "Downloaded and saved: /Users/aidakostikova/Desktop/arxiv/grobid_client_python/resources/test_pdf/paper_4.pdf\n",
      "Downloaded and saved: /Users/aidakostikova/Desktop/arxiv/grobid_client_python/resources/test_pdf/paper_5.pdf\n",
      "Downloaded and saved: /Users/aidakostikova/Desktop/arxiv/grobid_client_python/resources/test_pdf/paper_6.pdf\n",
      "Downloaded and saved: /Users/aidakostikova/Desktop/arxiv/grobid_client_python/resources/test_pdf/paper_7.pdf\n",
      "Downloaded and saved: /Users/aidakostikova/Desktop/arxiv/grobid_client_python/resources/test_pdf/paper_8.pdf\n",
      "Downloaded and saved: /Users/aidakostikova/Desktop/arxiv/grobid_client_python/resources/test_pdf/paper_9.pdf\n",
      "Downloaded and saved: /Users/aidakostikova/Desktop/arxiv/grobid_client_python/resources/test_pdf/paper_10.pdf\n",
      "Downloaded and saved: /Users/aidakostikova/Desktop/arxiv/grobid_client_python/resources/test_pdf/paper_11.pdf\n",
      "Downloaded and saved: /Users/aidakostikova/Desktop/arxiv/grobid_client_python/resources/test_pdf/paper_12.pdf\n",
      "Downloaded and saved: /Users/aidakostikova/Desktop/arxiv/grobid_client_python/resources/test_pdf/paper_13.pdf\n",
      "Downloaded and saved: /Users/aidakostikova/Desktop/arxiv/grobid_client_python/resources/test_pdf/paper_14.pdf\n",
      "Downloaded and saved: /Users/aidakostikova/Desktop/arxiv/grobid_client_python/resources/test_pdf/paper_15.pdf\n",
      "Downloaded and saved: /Users/aidakostikova/Desktop/arxiv/grobid_client_python/resources/test_pdf/paper_16.pdf\n",
      "Downloaded and saved: /Users/aidakostikova/Desktop/arxiv/grobid_client_python/resources/test_pdf/paper_17.pdf\n",
      "Downloaded and saved: /Users/aidakostikova/Desktop/arxiv/grobid_client_python/resources/test_pdf/paper_18.pdf\n",
      "Downloaded and saved: /Users/aidakostikova/Desktop/arxiv/grobid_client_python/resources/test_pdf/paper_19.pdf\n",
      "Downloaded and saved: /Users/aidakostikova/Desktop/arxiv/grobid_client_python/resources/test_pdf/paper_20.pdf\n",
      "Downloaded and saved: /Users/aidakostikova/Desktop/arxiv/grobid_client_python/resources/test_pdf/paper_21.pdf\n",
      "Downloaded and saved: /Users/aidakostikova/Desktop/arxiv/grobid_client_python/resources/test_pdf/paper_22.pdf\n",
      "Downloaded and saved: /Users/aidakostikova/Desktop/arxiv/grobid_client_python/resources/test_pdf/paper_23.pdf\n",
      "Downloaded and saved: /Users/aidakostikova/Desktop/arxiv/grobid_client_python/resources/test_pdf/paper_24.pdf\n",
      "Downloaded and saved: /Users/aidakostikova/Desktop/arxiv/grobid_client_python/resources/test_pdf/paper_25.pdf\n",
      "Downloaded and saved: /Users/aidakostikova/Desktop/arxiv/grobid_client_python/resources/test_pdf/paper_26.pdf\n",
      "Downloaded and saved: /Users/aidakostikova/Desktop/arxiv/grobid_client_python/resources/test_pdf/paper_27.pdf\n",
      "Downloaded and saved: /Users/aidakostikova/Desktop/arxiv/grobid_client_python/resources/test_pdf/paper_28.pdf\n",
      "Downloaded and saved: /Users/aidakostikova/Desktop/arxiv/grobid_client_python/resources/test_pdf/paper_29.pdf\n",
      "Downloaded and saved: /Users/aidakostikova/Desktop/arxiv/grobid_client_python/resources/test_pdf/paper_30.pdf\n",
      "Downloaded and saved: /Users/aidakostikova/Desktop/arxiv/grobid_client_python/resources/test_pdf/paper_31.pdf\n",
      "Downloaded and saved: /Users/aidakostikova/Desktop/arxiv/grobid_client_python/resources/test_pdf/paper_32.pdf\n",
      "Downloaded and saved: /Users/aidakostikova/Desktop/arxiv/grobid_client_python/resources/test_pdf/paper_33.pdf\n",
      "Downloaded and saved: /Users/aidakostikova/Desktop/arxiv/grobid_client_python/resources/test_pdf/paper_34.pdf\n",
      "Downloaded and saved: /Users/aidakostikova/Desktop/arxiv/grobid_client_python/resources/test_pdf/paper_35.pdf\n",
      "Downloaded and saved: /Users/aidakostikova/Desktop/arxiv/grobid_client_python/resources/test_pdf/paper_36.pdf\n",
      "Downloaded and saved: /Users/aidakostikova/Desktop/arxiv/grobid_client_python/resources/test_pdf/paper_37.pdf\n",
      "Downloaded and saved: /Users/aidakostikova/Desktop/arxiv/grobid_client_python/resources/test_pdf/paper_38.pdf\n",
      "Downloaded and saved: /Users/aidakostikova/Desktop/arxiv/grobid_client_python/resources/test_pdf/paper_39.pdf\n",
      "Downloaded and saved: /Users/aidakostikova/Desktop/arxiv/grobid_client_python/resources/test_pdf/paper_40.pdf\n",
      "Downloaded and saved: /Users/aidakostikova/Desktop/arxiv/grobid_client_python/resources/test_pdf/paper_41.pdf\n",
      "Downloaded and saved: /Users/aidakostikova/Desktop/arxiv/grobid_client_python/resources/test_pdf/paper_42.pdf\n",
      "Downloaded and saved: /Users/aidakostikova/Desktop/arxiv/grobid_client_python/resources/test_pdf/paper_43.pdf\n",
      "Downloaded and saved: /Users/aidakostikova/Desktop/arxiv/grobid_client_python/resources/test_pdf/paper_44.pdf\n",
      "Downloaded and saved: /Users/aidakostikova/Desktop/arxiv/grobid_client_python/resources/test_pdf/paper_45.pdf\n",
      "Downloaded and saved: /Users/aidakostikova/Desktop/arxiv/grobid_client_python/resources/test_pdf/paper_46.pdf\n",
      "Downloaded and saved: /Users/aidakostikova/Desktop/arxiv/grobid_client_python/resources/test_pdf/paper_47.pdf\n",
      "Downloaded and saved: /Users/aidakostikova/Desktop/arxiv/grobid_client_python/resources/test_pdf/paper_48.pdf\n",
      "Downloaded and saved: /Users/aidakostikova/Desktop/arxiv/grobid_client_python/resources/test_pdf/paper_49.pdf\n",
      "Downloaded and saved: /Users/aidakostikova/Desktop/arxiv/grobid_client_python/resources/test_pdf/paper_50.pdf\n",
      "Downloaded and saved: /Users/aidakostikova/Desktop/arxiv/grobid_client_python/resources/test_pdf/paper_51.pdf\n",
      "Downloaded and saved: /Users/aidakostikova/Desktop/arxiv/grobid_client_python/resources/test_pdf/paper_52.pdf\n",
      "Downloaded and saved: /Users/aidakostikova/Desktop/arxiv/grobid_client_python/resources/test_pdf/paper_53.pdf\n",
      "Downloaded and saved: /Users/aidakostikova/Desktop/arxiv/grobid_client_python/resources/test_pdf/paper_54.pdf\n",
      "Downloaded and saved: /Users/aidakostikova/Desktop/arxiv/grobid_client_python/resources/test_pdf/paper_55.pdf\n",
      "Downloaded and saved: /Users/aidakostikova/Desktop/arxiv/grobid_client_python/resources/test_pdf/paper_56.pdf\n",
      "Downloaded and saved: /Users/aidakostikova/Desktop/arxiv/grobid_client_python/resources/test_pdf/paper_57.pdf\n",
      "Downloaded and saved: /Users/aidakostikova/Desktop/arxiv/grobid_client_python/resources/test_pdf/paper_58.pdf\n"
     ]
    }
   ],
   "source": [
    "import pandas as pd\n",
    "import requests\n",
    "import os\n",
    "\n",
    "# Path to your Excel file\n",
    "csv_file_path = '/Users/aidakostikova/Desktop/arxiv/top40_papers.csv'\n",
    "\n",
    "# Folder where you want to save the PDFs\n",
    "pdf_folder = '/Users/aidakostikova/Desktop/arxiv/grobid_client_python/resources/test_pdf'\n",
    "\n",
    "# Ensure the directory exists\n",
    "os.makedirs(pdf_folder, exist_ok=True)\n",
    "\n",
    "# Column name in your Excel file that contains the PDF URLs\n",
    "url_column = 'pdf_url'  # Replace with your actual column name\n",
    "\n",
    "# Read the Excel file\n",
    "df = pd.read_csv(csv_file_path)\n",
    "\n",
    "# Iterate over the rows and download each PDF\n",
    "for index, row in df.iterrows():\n",
    "    pdf_url = row[url_column]\n",
    "    try:\n",
    "        response = requests.get(pdf_url)\n",
    "        response.raise_for_status()  # Check if the download was successful\n",
    "\n",
    "        # Save the PDF\n",
    "        pdf_filename = os.path.join(pdf_folder, f'paper_{index + 1}.pdf')\n",
    "        with open(pdf_filename, 'wb') as f:\n",
    "            f.write(response.content)\n",
    "\n",
    "        print(f\"Downloaded and saved: {pdf_filename}\")\n",
    "\n",
    "    except requests.RequestException as e:\n",
    "        print(f\"Error downloading {pdf_url}: {e}\")\n"
   ],
   "metadata": {
    "collapsed": false
   }
  },
  {
   "cell_type": "markdown",
   "source": [
    "## Get affiliations from the papers"
   ],
   "metadata": {
    "collapsed": false
   }
  },
  {
   "cell_type": "code",
   "source": [
    "!git clone https://github.com/kermitt2/grobid_client_python\n",
    "%cd grobid_client_python\n",
    "!python setup.py install\n"
   ],
   "metadata": {
    "colab": {
     "base_uri": "https://localhost:8080/"
    },
    "id": "W6I2X4P6z-NW",
    "outputId": "4122baae-a65c-4246-d302-acf952eed222",
    "ExecuteTime": {
     "end_time": "2023-11-20T10:59:01.369091Z",
     "start_time": "2023-11-20T10:58:59.510123Z"
    }
   },
   "execution_count": 2,
   "outputs": [
    {
     "name": "stdout",
     "output_type": "stream",
     "text": [
      "Cloning into 'grobid_client_python'...\r\n",
      "remote: Enumerating objects: 339, done.\u001B[K\r\n",
      "remote: Counting objects: 100% (156/156), done.\u001B[K\r\n",
      "remote: Compressing objects: 100% (70/70), done.\u001B[K\r\n",
      "remote: Total 339 (delta 107), reused 91 (delta 85), pack-reused 183\u001B[K\r\n",
      "Receiving objects: 100% (339/339), 1.49 MiB | 5.96 MiB/s, done.\r\n",
      "Resolving deltas: 100% (198/198), done.\r\n",
      "/Users/zhangran/Documents/GitHub/Quaterly-Arxiv/code/grobid_client_python\n",
      "running install\r\n",
      "/opt/homebrew/Caskroom/miniforge/base/envs/agents/lib/python3.9/site-packages/setuptools/_distutils/cmd.py:66: SetuptoolsDeprecationWarning: setup.py install is deprecated.\r\n",
      "!!\r\n",
      "\r\n",
      "        ********************************************************************************\r\n",
      "        Please avoid running ``setup.py`` directly.\r\n",
      "        Instead, use pypa/build, pypa/installer or other\r\n",
      "        standards-based tools.\r\n",
      "\r\n",
      "        See https://blog.ganssle.io/articles/2021/10/setup-py-deprecated.html for details.\r\n",
      "        ********************************************************************************\r\n",
      "\r\n",
      "!!\r\n",
      "  self.initialize_options()\r\n",
      "/opt/homebrew/Caskroom/miniforge/base/envs/agents/lib/python3.9/site-packages/setuptools/_distutils/cmd.py:66: EasyInstallDeprecationWarning: easy_install command is deprecated.\r\n",
      "!!\r\n",
      "\r\n",
      "        ********************************************************************************\r\n",
      "        Please avoid running ``setup.py`` and ``easy_install``.\r\n",
      "        Instead, use pypa/build, pypa/installer or other\r\n",
      "        standards-based tools.\r\n",
      "\r\n",
      "        See https://github.com/pypa/setuptools/issues/917 for details.\r\n",
      "        ********************************************************************************\r\n",
      "\r\n",
      "!!\r\n",
      "  self.initialize_options()\r\n",
      "running bdist_egg\r\n",
      "running egg_info\r\n",
      "creating grobid_client_python.egg-info\r\n",
      "writing grobid_client_python.egg-info/PKG-INFO\r\n",
      "writing dependency_links to grobid_client_python.egg-info/dependency_links.txt\r\n",
      "writing entry points to grobid_client_python.egg-info/entry_points.txt\r\n",
      "writing requirements to grobid_client_python.egg-info/requires.txt\r\n",
      "writing top-level names to grobid_client_python.egg-info/top_level.txt\r\n",
      "writing manifest file 'grobid_client_python.egg-info/SOURCES.txt'\r\n",
      "reading manifest file 'grobid_client_python.egg-info/SOURCES.txt'\r\n",
      "reading manifest template 'MANIFEST.in'\r\n",
      "adding license file 'LICENSE'\r\n",
      "writing manifest file 'grobid_client_python.egg-info/SOURCES.txt'\r\n",
      "installing library code to build/bdist.macosx-11.0-arm64/egg\r\n",
      "running install_lib\r\n",
      "running build_py\r\n",
      "creating build\r\n",
      "creating build/lib\r\n",
      "creating build/lib/grobid_client\r\n",
      "copying grobid_client/client.py -> build/lib/grobid_client\r\n",
      "copying grobid_client/__init__.py -> build/lib/grobid_client\r\n",
      "copying grobid_client/grobid_client.py -> build/lib/grobid_client\r\n",
      "creating build/bdist.macosx-11.0-arm64\r\n",
      "creating build/bdist.macosx-11.0-arm64/egg\r\n",
      "creating build/bdist.macosx-11.0-arm64/egg/grobid_client\r\n",
      "copying build/lib/grobid_client/client.py -> build/bdist.macosx-11.0-arm64/egg/grobid_client\r\n",
      "copying build/lib/grobid_client/__init__.py -> build/bdist.macosx-11.0-arm64/egg/grobid_client\r\n",
      "copying build/lib/grobid_client/grobid_client.py -> build/bdist.macosx-11.0-arm64/egg/grobid_client\r\n",
      "byte-compiling build/bdist.macosx-11.0-arm64/egg/grobid_client/client.py to client.cpython-39.pyc\r\n",
      "byte-compiling build/bdist.macosx-11.0-arm64/egg/grobid_client/__init__.py to __init__.cpython-39.pyc\r\n",
      "byte-compiling build/bdist.macosx-11.0-arm64/egg/grobid_client/grobid_client.py to grobid_client.cpython-39.pyc\r\n",
      "creating build/bdist.macosx-11.0-arm64/egg/EGG-INFO\r\n",
      "copying grobid_client_python.egg-info/PKG-INFO -> build/bdist.macosx-11.0-arm64/egg/EGG-INFO\r\n",
      "copying grobid_client_python.egg-info/SOURCES.txt -> build/bdist.macosx-11.0-arm64/egg/EGG-INFO\r\n",
      "copying grobid_client_python.egg-info/dependency_links.txt -> build/bdist.macosx-11.0-arm64/egg/EGG-INFO\r\n",
      "copying grobid_client_python.egg-info/entry_points.txt -> build/bdist.macosx-11.0-arm64/egg/EGG-INFO\r\n",
      "copying grobid_client_python.egg-info/requires.txt -> build/bdist.macosx-11.0-arm64/egg/EGG-INFO\r\n",
      "copying grobid_client_python.egg-info/top_level.txt -> build/bdist.macosx-11.0-arm64/egg/EGG-INFO\r\n",
      "zip_safe flag not set; analyzing archive contents...\r\n",
      "creating dist\r\n",
      "creating 'dist/grobid_client_python-0.0.7-py3.9.egg' and adding 'build/bdist.macosx-11.0-arm64/egg' to it\r\n",
      "removing 'build/bdist.macosx-11.0-arm64/egg' (and everything under it)\r\n",
      "Processing grobid_client_python-0.0.7-py3.9.egg\r\n",
      "Copying grobid_client_python-0.0.7-py3.9.egg to /opt/homebrew/Caskroom/miniforge/base/envs/agents/lib/python3.9/site-packages\r\n",
      "Adding grobid-client-python 0.0.7 to easy-install.pth file\r\n",
      "Installing grobid_client script to /opt/homebrew/Caskroom/miniforge/base/envs/agents/bin\r\n",
      "\r\n",
      "Installed /opt/homebrew/Caskroom/miniforge/base/envs/agents/lib/python3.9/site-packages/grobid_client_python-0.0.7-py3.9.egg\r\n",
      "Processing dependencies for grobid-client-python==0.0.7\r\n",
      "Searching for certifi>=2017.4.17\r\n",
      "Reading https://pypi.org/simple/certifi/\r\n",
      "Downloading https://files.pythonhosted.org/packages/64/62/428ef076be88fa93716b576e4a01f919d25968913e817077a386fcbe4f42/certifi-2023.11.17-py3-none-any.whl#sha256=e036ab49d5b79556f99cfc2d9320b34cfbe5be05c5871b51de9329f0603b0474\r\n",
      "Best match: certifi 2023.11.17\r\n",
      "Processing certifi-2023.11.17-py3-none-any.whl\r\n",
      "Installing certifi-2023.11.17-py3-none-any.whl to /opt/homebrew/Caskroom/miniforge/base/envs/agents/lib/python3.9/site-packages\r\n",
      "Adding certifi 2023.11.17 to easy-install.pth file\r\n",
      "detected new path './grobid_client_python-0.0.7-py3.9.egg'\r\n",
      "\r\n",
      "Installed /opt/homebrew/Caskroom/miniforge/base/envs/agents/lib/python3.9/site-packages/certifi-2023.11.17-py3.9.egg\r\n",
      "Searching for requests==2.31.0\r\n",
      "Best match: requests 2.31.0\r\n",
      "Adding requests 2.31.0 to easy-install.pth file\r\n",
      "detected new path './certifi-2023.11.17-py3.9.egg'\r\n",
      "\r\n",
      "Using /opt/homebrew/Caskroom/miniforge/base/envs/agents/lib/python3.9/site-packages\r\n",
      "Searching for urllib3==1.26.7\r\n",
      "Best match: urllib3 1.26.7\r\n",
      "Adding urllib3 1.26.7 to easy-install.pth file\r\n",
      "\r\n",
      "Using /opt/homebrew/Caskroom/miniforge/base/envs/agents/lib/python3.9/site-packages\r\n",
      "Searching for idna==3.3\r\n",
      "Best match: idna 3.3\r\n",
      "Adding idna 3.3 to easy-install.pth file\r\n",
      "\r\n",
      "Using /opt/homebrew/Caskroom/miniforge/base/envs/agents/lib/python3.9/site-packages\r\n",
      "Searching for charset-normalizer==2.0.12\r\n",
      "Best match: charset-normalizer 2.0.12\r\n",
      "Adding charset-normalizer 2.0.12 to easy-install.pth file\r\n",
      "Installing normalizer script to /opt/homebrew/Caskroom/miniforge/base/envs/agents/bin\r\n",
      "\r\n",
      "Using /opt/homebrew/Caskroom/miniforge/base/envs/agents/lib/python3.9/site-packages\r\n",
      "Finished processing dependencies for grobid-client-python==0.0.7\r\n"
     ]
    }
   ]
  },
  {
   "cell_type": "code",
   "execution_count": 5,
   "outputs": [],
   "source": [
    "from grobid_client.grobid_client import GrobidClient"
   ],
   "metadata": {
    "collapsed": false,
    "ExecuteTime": {
     "end_time": "2023-11-22T23:52:00.585541Z",
     "start_time": "2023-11-22T23:52:00.575171Z"
    }
   }
  },
  {
   "cell_type": "code",
   "execution_count": 6,
   "outputs": [],
   "source": [
    "import os\n",
    "import shutil\n",
    "os.chdir('/Users/zhangran/Documents/GitHub/Quaterly-Arxiv/code/grobid_client_python/')"
   ],
   "metadata": {
    "collapsed": false,
    "ExecuteTime": {
     "end_time": "2023-11-22T23:52:01.231646Z",
     "start_time": "2023-11-22T23:52:01.216576Z"
    }
   }
  },
  {
   "cell_type": "code",
   "execution_count": 7,
   "outputs": [],
   "source": [
    "for file in os.listdir(\"./resources/test_out/\"):\n",
    "    try:\n",
    "        file = file.replace(\"grobid.tei.xml\", \"pdf\")\n",
    "        shutil.move(\"../../data/pdfs/\" + file, \"../../data/done/\" + file)\n",
    "    except: pass"
   ],
   "metadata": {
    "collapsed": false,
    "ExecuteTime": {
     "end_time": "2023-11-22T23:52:01.553782Z",
     "start_time": "2023-11-22T23:52:01.406081Z"
    }
   }
  },
  {
   "cell_type": "code",
   "execution_count": null,
   "outputs": [
    {
     "name": "stdout",
     "output_type": "stream",
     "text": [
      "GROBID server is up and running\n"
     ]
    }
   ],
   "source": [
    "os.chdir('/Users/zhangran/Documents/GitHub/Quaterly-Arxiv/code/grobid_client_python/')\n",
    "client = GrobidClient(config_path=\"./config.json\")\n",
    "client.process(\"processHeaderDocument\", \"../../data/pdfs\", output=\"./resources/test_out/\", consolidate_citations=True, tei_coordinates=True, force=True)"
   ],
   "metadata": {
    "collapsed": false,
    "is_executing": true,
    "ExecuteTime": {
     "start_time": "2023-11-22T23:52:02.064394Z"
    }
   }
  },
  {
   "cell_type": "markdown",
   "source": [
    "## Parsing GROBID.TEI.XML files"
   ],
   "metadata": {
    "collapsed": false,
    "ExecuteTime": {
     "end_time": "2023-11-21T21:10:30.005837Z",
     "start_time": "2023-11-21T21:10:29.804285Z"
    }
   }
  },
  {
   "cell_type": "code",
   "execution_count": 3,
   "outputs": [
    {
     "name": "stdout",
     "output_type": "stream",
     "text": [
      "Author: Cristiano De Marchis, Affiliation: Department: Division of Functional and Restorative Neurosurgery, Department: Department of Neurosurgery, Institution: Eberhard Karls University, Country: Germany\n",
      "Author: Thiago Santos Monteiro, Affiliation: \n",
      "Author: Cristina Simon-Martinez, Affiliation: Department: Division of Functional and Restorative Neurosurgery, Department: Department of Neurosurgery, Institution: Eberhard Karls University, Country: Germany\n",
      "Author: Silvia Conforto, Affiliation: Department: Division of Functional and Restorative Neurosurgery, Department: Department of Neurosurgery, Institution: Eberhard Karls University, Country: Germany\n",
      "Author: Alireza Gharabaghi, Affiliation: Department: Division of Functional and Restorative Neurosurgery, Department: Department of Neurosurgery, Institution: Eberhard Karls University, Country: Germany\n"
     ]
    }
   ],
   "source": [
    "import xml.etree.ElementTree as ET\n",
    "import os\n",
    "\n",
    "# Directory containing the XML files\n",
    "xml_directory = './resources/test_out'\n",
    "\n",
    "# Namespace dictionary to handle namespaces in the XML\n",
    "namespaces = {'tei': 'http://www.tei-c.org/ns/1.0'}\n",
    "\n",
    "# Function to extract and print affiliations from a single XML file\n",
    "def process_xml_file(xml_file_path):\n",
    "    # Read the XML content from the file\n",
    "    with open(xml_file_path, 'r', encoding='UTF-8') as file:\n",
    "        xml_content = file.read()\n",
    "\n",
    "    # Parse the XML content\n",
    "    root = ET.fromstring(xml_content)\n",
    "\n",
    "    # Find all author elements\n",
    "    authors = root.findall('.//tei:author', namespaces)\n",
    "\n",
    "    # Extract affiliations for each author\n",
    "    for author in authors:\n",
    "        # Extract author's name\n",
    "        forename = author.find('.//tei:forename', namespaces).text if author.find('.//tei:forename', namespaces) is not None else ''\n",
    "        surname = author.find('.//tei:surname', namespaces).text if author.find('.//tei:surname', namespaces) is not None else ''\n",
    "        author_name = f\"{forename} {surname}\".strip()\n",
    "\n",
    "        # Extract affiliation components\n",
    "        affiliation_elements = author.findall('.//tei:affiliation/*', namespaces)\n",
    "        affiliation_details = []\n",
    "        for elem in affiliation_elements:\n",
    "            if elem.tag.endswith('orgName'):\n",
    "                affiliation_type = elem.get('type')\n",
    "                affiliation_details.append(f\"{affiliation_type.capitalize()}: {elem.text}\")\n",
    "            elif elem.tag.endswith('address'):\n",
    "                country = elem.find('.//tei:country', namespaces).text if elem.find('.//tei:country', namespaces) is not None else ''\n",
    "                affiliation_details.append(f\"Country: {country}\")\n",
    "\n",
    "        affiliation_info = ', '.join(affiliation_details)\n",
    "\n",
    "        print(f\"Author: {author_name}, Affiliation: {affiliation_info}\")\n",
    "\n",
    "# Process each XML file in the directory\n",
    "for filename in os.listdir(xml_directory):\n",
    "    if filename.endswith('.grobid.tei.xml'):\n",
    "        process_xml_file(os.path.join(xml_directory, filename))\n"
   ],
   "metadata": {
    "collapsed": false,
    "ExecuteTime": {
     "end_time": "2023-11-22T00:36:08.732660Z",
     "start_time": "2023-11-22T00:36:08.726158Z"
    }
   }
  },
  {
   "cell_type": "code",
   "execution_count": null,
   "outputs": [],
   "source": [],
   "metadata": {
    "collapsed": false
   }
  }
 ]
}
